{
 "cells": [
  {
   "cell_type": "markdown",
   "id": "55b82172-bf44-40bc-a03e-2d63ca9d1962",
   "metadata": {},
   "source": [
    "# Prepare Datasets"
   ]
  },
  {
   "cell_type": "code",
   "execution_count": 1,
   "id": "c818d405-45a3-4d41-b445-aaf5e717a857",
   "metadata": {},
   "outputs": [],
   "source": [
    "import pandas as pd\n",
    "import numpy as np\n",
    "from tqdm import tqdm\n",
    "from openslide import OpenSlide\n",
    "from pathlib import Path\n",
    "import torch\n",
    "import torchvision\n",
    "from torchvision import transforms\n",
    "from PIL import Image\n",
    "\n",
    "SEED = 42"
   ]
  },
  {
   "cell_type": "code",
   "execution_count": 2,
   "id": "201e350d-6871-4828-8ba7-53365c710a8d",
   "metadata": {},
   "outputs": [],
   "source": [
    "def random_sample(x, k=16):\n",
    "    B, H = x.shape\n",
    "    x = x.transpose(0, 1)\n",
    "    indices = torch.randperm(B)[:k]\n",
    "    return x[:, indices].transpose(0, 1)"
   ]
  },
  {
   "cell_type": "code",
   "execution_count": 3,
   "id": "fb70062b-a101-4381-b61d-eb9a7a0c8ff6",
   "metadata": {},
   "outputs": [],
   "source": [
    "outcome_df = pd.read_csv('/home/ngsci/datasets/brca-psj-path/contest-phase-2/csv-train/outcomes.csv')\n",
    "map_df = pd.read_csv('/home/ngsci/datasets/brca-psj-path/v2/slide-biopsy-map.csv')\n",
    "# Unique labels ['IA', 'IIB', 'IIA', '0', nan, 'IIIC', 'IV', 'IIIA', 'IIIB', 'IB']\n",
    "label_mapping = {'IA':1, 'IB':1, 'IIA':2, 'IIB':2, 'IIIA':3, 'IIIB':3, 'IIIC':3, 'IV':4, '0':0}\n",
    "outcome_df['label'] = outcome_df['stage'].map(label_mapping)\n",
    "outcome_df = outcome_df[~pd.isna(outcome_df['label'])]"
   ]
  },
  {
   "cell_type": "code",
   "execution_count": 4,
   "id": "db474df0-f5e1-4ddc-b3e8-2cb18da06d43",
   "metadata": {},
   "outputs": [
    {
     "data": {
      "text/plain": [
       "1000"
      ]
     },
     "execution_count": 4,
     "metadata": {},
     "output_type": "execute_result"
    }
   ],
   "source": [
    "len(outcome_df)"
   ]
  },
  {
   "cell_type": "code",
   "execution_count": 5,
   "id": "624c2d74-b639-4248-8f12-f395f5136330",
   "metadata": {},
   "outputs": [
    {
     "name": "stdout",
     "output_type": "stream",
     "text": [
      "Train slides: 10580\n",
      "\n",
      "Test slides: 2545\n",
      "\n"
     ]
    },
    {
     "name": "stderr",
     "output_type": "stream",
     "text": [
      "/tmp/ipykernel_371/3561669103.py:18: SettingWithCopyWarning: \n",
      "A value is trying to be set on a copy of a slice from a DataFrame.\n",
      "Try using .loc[row_indexer,col_indexer] = value instead\n",
      "\n",
      "See the caveats in the documentation: https://pandas.pydata.org/pandas-docs/stable/user_guide/indexing.html#returning-a-view-versus-a-copy\n",
      "  train_mapping['downsampled_path'] = path_prefix + train_mapping['slide_id'] + '.pt'\n",
      "/tmp/ipykernel_371/3561669103.py:19: SettingWithCopyWarning: \n",
      "A value is trying to be set on a copy of a slice from a DataFrame.\n",
      "Try using .loc[row_indexer,col_indexer] = value instead\n",
      "\n",
      "See the caveats in the documentation: https://pandas.pydata.org/pandas-docs/stable/user_guide/indexing.html#returning-a-view-versus-a-copy\n",
      "  test_mapping['downsampled_path'] = path_prefix + test_mapping['slide_id'] + '.pt'\n"
     ]
    }
   ],
   "source": [
    "# stratified_df = outcome_df.groupby('label', group_keys=False).apply(lambda x: x.sample(min(len(x), 50)))\n",
    "train_N = 800\n",
    "train_df = outcome_df.groupby('label', group_keys=False).apply(lambda x: x.sample(int(np.rint(train_N*len(x)/len(outcome_df))), random_state=SEED)).sample(frac=1, random_state=SEED).reset_index(drop=True)\n",
    "\n",
    "test_N = 200\n",
    "remained_df = outcome_df[~outcome_df['biopsy_id'].isin(train_df['biopsy_id'])]\n",
    "test_df = remained_df.groupby('label', group_keys=False).apply(lambda x: x.sample(int(np.rint(test_N*len(x)/len(remained_df))), random_state=SEED)).sample(frac=1, random_state=SEED).reset_index(drop=True)\n",
    "\n",
    "train_mapping = map_df[map_df['biopsy_id'].isin(train_df['biopsy_id'])]\n",
    "test_mapping = map_df[map_df['biopsy_id'].isin(test_df['biopsy_id'])]\n",
    "print('Train slides: %d\\n'%len(train_mapping))\n",
    "print('Test slides: %d\\n'%len(test_mapping))\n",
    "\n",
    "# path_prefix = '/home/ngsci/datasets/brca-psj-path/contest-phase-2/png-downsampled-train/'\n",
    "# train_mapping['downsampled_path'] = path_prefix + train_mapping['slide_id'] + '.png'\n",
    "# test_mapping['downsampled_path'] = path_prefix + test_mapping['slide_id'] + '.png'\n",
    "path_prefix = '/home/ngsci/datasets/brca-psj-path/contest-phase-2/clam-preprocessing-train/resnet50-features/pt_files/'\n",
    "train_mapping['downsampled_path'] = path_prefix + train_mapping['slide_id'] + '.pt'\n",
    "test_mapping['downsampled_path'] = path_prefix + test_mapping['slide_id'] + '.pt'"
   ]
  },
  {
   "cell_type": "code",
   "execution_count": 6,
   "id": "2c63c5e2-0759-4178-9f39-31f501c904fb",
   "metadata": {},
   "outputs": [
    {
     "name": "stderr",
     "output_type": "stream",
     "text": [
      "100%|██████████| 10846/10846 [2:50:09<00:00,  1.06it/s] \n"
     ]
    }
   ],
   "source": [
    "paths = list(Path(path_prefix).iterdir())\n",
    "for idx in tqdm(range(0, len(paths))):\n",
    "    path = paths[idx]\n",
    "    slide_id = str(path).split('/')[-1]\n",
    "    feat = torch.load(path)\n",
    "    x_mean = torch.mean(feat, dim=0).unsqueeze(dim=0)\n",
    "    x_sampled = random_sample(feat, k=16)\n",
    "    # x2 = torch.max(feat, dim=0).values\n",
    "    # x3 = torch.min(feat, dim=0).values\n",
    "    # x = torch.stack([x1,x2,x3])\n",
    "    x = torch.vstack([x_mean, x_sampled])\n",
    "    torch.save(x, f'./datasets/train/{slide_id}')"
   ]
  },
  {
   "cell_type": "code",
   "execution_count": 7,
   "id": "50201cbc-b477-4b18-a4c5-75f285159bb3",
   "metadata": {},
   "outputs": [
    {
     "name": "stdout",
     "output_type": "stream",
     "text": [
      "Train slides filtered: 8728\n",
      "Test slides filtered: 2118\n"
     ]
    }
   ],
   "source": [
    "def check_path_exists(path):\n",
    "    return Path(path).is_file()\n",
    "\n",
    "train_mask = train_mapping['downsampled_path'].apply(check_path_exists)\n",
    "train_mapping = train_mapping[train_mask].reset_index()\n",
    "print('Train slides filtered:', len(train_mapping))\n",
    "\n",
    "test_mask = test_mapping['downsampled_path'].apply(check_path_exists)\n",
    "test_mapping = test_mapping[test_mask].reset_index()\n",
    "print('Test slides filtered:', len(test_mapping))"
   ]
  },
  {
   "cell_type": "code",
   "execution_count": 8,
   "id": "a51f4a23-1ceb-46a7-8291-de5896ff60a7",
   "metadata": {},
   "outputs": [],
   "source": [
    "check_res = train_mapping['downsampled_path'].map(lambda x: Path(x).is_file())\n",
    "assert(check_res.sum() == len(check_res))\n",
    "\n",
    "check_res = test_mapping['downsampled_path'].map(lambda x: Path(x).is_file())\n",
    "assert(check_res.sum() == len(check_res))"
   ]
  },
  {
   "cell_type": "code",
   "execution_count": 9,
   "id": "a5c5c92b-c37f-408d-b228-dc963d6986e7",
   "metadata": {},
   "outputs": [],
   "source": [
    "train_df.to_csv('./csv_dir/train_outcomes.csv', index=False)\n",
    "test_df.to_csv('./csv_dir/test_outcomes.csv', index=False)\n",
    "train_mapping.to_csv('./csv_dir/train_mapping.csv', index=False)\n",
    "test_mapping.to_csv('./csv_dir/test_mapping.csv', index=False)"
   ]
  },
  {
   "cell_type": "code",
   "execution_count": 10,
   "id": "a85408d8-9cd6-4af5-a786-1650842e4bed",
   "metadata": {},
   "outputs": [
    {
     "name": "stdout",
     "output_type": "stream",
     "text": [
      "Holdout slides: 14466\n"
     ]
    }
   ],
   "source": [
    "holdout_mapping = pd.read_csv('/home/ngsci/datasets/brca-psj-path/contest-phase-2/slide-manifest-holdout.csv')\n",
    "\n",
    "# path_prefix = '/home/ngsci/datasets/brca-psj-path/contest-phase-2/png-downsampled-holdout/'\n",
    "path_prefix = '/home/ngsci/datasets/brca-psj-path/contest-phase-2/clam-preprocessing-holdout/resnet50-features/pt_files/'\n",
    "holdout_mapping['downsampled_path'] = path_prefix + holdout_mapping['slide_id'] + '.pt'\n",
    "\n",
    "check_res = holdout_mapping['downsampled_path'].map(lambda x: Path(x).is_file())\n",
    "assert(check_res.sum() == len(check_res))\n",
    "print(\"Holdout slides:\", len(check_res))"
   ]
  },
  {
   "cell_type": "code",
   "execution_count": 11,
   "id": "d937fe47-777a-4a4f-920f-037a3f3c6024",
   "metadata": {},
   "outputs": [
    {
     "name": "stderr",
     "output_type": "stream",
     "text": [
      "100%|██████████| 14466/14466 [3:30:02<00:00,  1.15it/s]  \n"
     ]
    }
   ],
   "source": [
    "paths = list(Path(path_prefix).iterdir())\n",
    "for idx in tqdm(range(0, len(paths))):\n",
    "    path = paths[idx]\n",
    "    slide_id = str(path).split('/')[-1]\n",
    "    feat = torch.load(path)\n",
    "    x_mean = torch.mean(feat, dim=0).unsqueeze(dim=0)\n",
    "    x_sampled = random_sample(feat, k=16)\n",
    "    # x2 = torch.max(feat, dim=0).values\n",
    "    # x3 = torch.min(feat, dim=0).values\n",
    "    # x = torch.stack([x1,x2,x3])\n",
    "    x = torch.vstack([x_mean, x_sampled])\n",
    "    torch.save(x, f'./datasets/holdout/{slide_id}')"
   ]
  },
  {
   "cell_type": "code",
   "execution_count": 12,
   "id": "2e563fcf-4231-4cd1-a1ed-f141a630af97",
   "metadata": {},
   "outputs": [],
   "source": [
    "holdout_mapping.to_csv('./csv_dir/holdout_mapping.csv', index=False)"
   ]
  },
  {
   "cell_type": "code",
   "execution_count": null,
   "id": "dd768ef4-c124-45be-9c0b-842cee94759c",
   "metadata": {},
   "outputs": [],
   "source": []
  }
 ],
 "metadata": {
  "kernelspec": {
   "display_name": "Python 3 (ipykernel)",
   "language": "python",
   "name": "python3"
  },
  "language_info": {
   "codemirror_mode": {
    "name": "ipython",
    "version": 3
   },
   "file_extension": ".py",
   "mimetype": "text/x-python",
   "name": "python",
   "nbconvert_exporter": "python",
   "pygments_lexer": "ipython3",
   "version": "3.8.11"
  }
 },
 "nbformat": 4,
 "nbformat_minor": 5
}
