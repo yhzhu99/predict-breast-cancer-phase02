{
 "cells": [
  {
   "cell_type": "code",
   "execution_count": 6,
   "metadata": {},
   "outputs": [],
   "source": [
    "import pandas as pd\n",
    "import numpy as np\n",
    "from tqdm import tqdm\n",
    "# from openslide import OpenSlide\n",
    "from pathlib import Path\n",
    "import torch\n",
    "import torchvision\n",
    "from torch import nn\n",
    "from torchvision import transforms\n",
    "from PIL import Image\n",
    "\n",
    "from sklearn.metrics import roc_auc_score\n",
    "from sklearn.preprocessing import LabelBinarizer\n",
    "\n",
    "SEED = 42\n",
    "dataset_base_path = \"./datasets/\""
   ]
  },
  {
   "cell_type": "code",
   "execution_count": 7,
   "metadata": {},
   "outputs": [],
   "source": [
    "holdout_mapping = pd.read_csv('./csv_dir/holdout_mapping.csv')"
   ]
  },
  {
   "cell_type": "code",
   "execution_count": 8,
   "metadata": {},
   "outputs": [],
   "source": [
    "holdout_slide_map = {}\n",
    "\"\"\"\n",
    "key: slide_id\n",
    "value: Tuple(biopsy_id, slide_path, label=-1)\n",
    "\"\"\"\n",
    "for idx, row in holdout_mapping.iterrows():\n",
    "    holdout_slide_map[row['slide_id']] = (row['biopsy_id'], row['downsampled_path'], -1)"
   ]
  },
  {
   "cell_type": "code",
   "execution_count": 9,
   "metadata": {},
   "outputs": [
    {
     "data": {
      "text/plain": [
       "14466"
      ]
     },
     "execution_count": 9,
     "metadata": {},
     "output_type": "execute_result"
    }
   ],
   "source": [
    "len(holdout_mapping)"
   ]
  },
  {
   "cell_type": "code",
   "execution_count": 10,
   "metadata": {},
   "outputs": [],
   "source": [
    "transform_aug_test = transforms.Compose([\n",
    "        transforms.Resize(224),\n",
    "        transforms.CenterCrop(size=224),\n",
    "        transforms.ToTensor(),\n",
    "        transforms.Normalize([0.485, 0.456, 0.406],\n",
    "                             [0.229, 0.224, 0.225])\n",
    "    ])"
   ]
  },
  {
   "cell_type": "code",
   "execution_count": 11,
   "metadata": {},
   "outputs": [],
   "source": [
    "class ImageDataset(torch.utils.data.Dataset):\n",
    "    def __init__(self, slide_map, mode='train', transform=None): \n",
    "        self.slide_map = slide_map\n",
    "        self.data = list(slide_map.values())\n",
    "        \n",
    "        self.mode = mode # train/test\n",
    "        self.transform = transform\n",
    "\n",
    "    def __getitem__(self, index):\n",
    "        biopsy_id, path, label = self.data[index]\n",
    "        x_pil = Image.open(dataset_base_path + path)\n",
    "        # if self.mode=='train': x_tensor = transform_aug_train(x_pil)\n",
    "        # elif self.mode in ['test', 'holdout']: x_tensor = transform_aug_test(x_pil)\n",
    "        x_tensor = self.transform(x_pil)\n",
    "        return x_tensor, label, biopsy_id\n",
    "\n",
    "    def __len__(self):\n",
    "        return len(self.slide_map)"
   ]
  },
  {
   "cell_type": "code",
   "execution_count": 12,
   "metadata": {},
   "outputs": [],
   "source": [
    "batch_size = 128\n",
    "\n",
    "epochs = 50\n",
    "learning_rate = 1e-3\n",
    "momentum = 0.9\n",
    "weight_decay = 0 # 1e-8\n",
    "\n",
    "hidden_dim = 512 # ResNet50: 2048, ResNet18: 512\n",
    "num_classes = 5\n",
    "out_dim = num_classes # [0,1,2,3,4]\n",
    "\n",
    "device = torch.device(\"cuda:0\" if torch.cuda.is_available() else \"cpu\")"
   ]
  },
  {
   "cell_type": "code",
   "execution_count": 13,
   "metadata": {},
   "outputs": [],
   "source": [
    "holdout_dataset = ImageDataset(holdout_slide_map, mode='test', transform=transform_aug_test)\n",
    "holdout_loader = torch.utils.data.DataLoader(holdout_dataset, batch_size=batch_size)"
   ]
  },
  {
   "cell_type": "code",
   "execution_count": 14,
   "metadata": {},
   "outputs": [],
   "source": [
    "label_binarizer = LabelBinarizer().fit(np.arange(num_classes))\n",
    "\n",
    "def get_score(y_true, y_pred):\n",
    "    \"\"\"\n",
    "    # assume y_true: [0,1,2,3,4,3,2,...] discrete numbers\n",
    "    # assume y_pred: tensor of shape (batch_size, num_classes)\n",
    "    # where num_classes = 5 for this task\n",
    "\n",
    "    # compute AUC for each class\n",
    "    \"\"\"\n",
    "    y_true_onehot = label_binarizer.transform(y_true)\n",
    "    macro_roc_auc_ovr = roc_auc_score(\n",
    "        y_true_onehot,\n",
    "        y_pred,\n",
    "        multi_class=\"ovr\",\n",
    "        average=\"macro\",\n",
    "    )\n",
    "    return macro_roc_auc_ovr"
   ]
  },
  {
   "cell_type": "code",
   "execution_count": 15,
   "metadata": {},
   "outputs": [],
   "source": [
    "model = torchvision.models.resnet18()\n",
    "# model.load_state_dict(torch.load('./checkpoints/resnet50-11ad3fa6.pth'), strict=True)"
   ]
  },
  {
   "cell_type": "code",
   "execution_count": 16,
   "metadata": {},
   "outputs": [],
   "source": [
    "model.fc = nn.Sequential(\n",
    "    # nn.Linear(hidden_dim, hidden_dim//16),\n",
    "    # nn.GELU(),\n",
    "    # nn.Linear(hidden_dim//16, out_dim),\n",
    "    nn.Linear(hidden_dim, out_dim),\n",
    "    nn.Softmax(dim=1)\n",
    ")\n",
    "\n",
    "model.load_state_dict(torch.load('checkpoints/model_resnet18_0415.ckpt'), strict=True)\n",
    "\n",
    "model = model.to(device)\n",
    "optimizer = torch.optim.AdamW(model.parameters(), lr=learning_rate, weight_decay=weight_decay)"
   ]
  },
  {
   "cell_type": "code",
   "execution_count": 17,
   "metadata": {},
   "outputs": [],
   "source": [
    "def val_epoch(model, dataloader):\n",
    "    y_pred = {} # key: biopsy_id, value: List[slice_stage_pred]\n",
    "    y_true = {} # key: biopsy_id, value: List[slice_stage_pred]\n",
    "    model.eval()\n",
    "    with torch.no_grad():\n",
    "        for step, data in enumerate(dataloader):\n",
    "            # if step % 50 == 0: print(f\"Validating... Step={step}\")\n",
    "            batch_x, _, batch_biopsy_id = data\n",
    "            batch_x = batch_x.float().to(device)\n",
    "            output = model(batch_x)\n",
    "            # output = torch.argmax(output, dim=-1)\n",
    "            output = output.detach().cpu().numpy().tolist()\n",
    "\n",
    "            for i in range(len(batch_biopsy_id)):\n",
    "                biopsy_id = batch_biopsy_id[i]\n",
    "                if biopsy_id not in y_pred:\n",
    "                    y_pred[biopsy_id] = []\n",
    "                    y_true[biopsy_id] = []\n",
    "                y_pred[biopsy_id].append(output[i])\n",
    "    \n",
    "    submit_result_dict = {}\n",
    "    for biopsy_id in y_pred:\n",
    "        preds = np.array(y_pred[biopsy_id]).mean(axis=0)\n",
    "        stage = np.argmax(preds)\n",
    "        submit_result_dict[biopsy_id] = (preds, stage) \n",
    "    return submit_result_dict"
   ]
  },
  {
   "cell_type": "code",
   "execution_count": 18,
   "metadata": {},
   "outputs": [],
   "source": [
    "submit_result_dict = val_epoch(model, holdout_loader)"
   ]
  },
  {
   "cell_type": "code",
   "execution_count": 19,
   "metadata": {},
   "outputs": [],
   "source": [
    "biopsy_id_list = []\n",
    "probability_stage_list = []\n",
    "stage_list = []\n",
    "\n",
    "for biopsy_id in submit_result_dict:\n",
    "    biopsy_id_list.append(biopsy_id)\n",
    "    probability_stage_list.append(submit_result_dict[biopsy_id][0])\n",
    "    stage_list.append(submit_result_dict[biopsy_id][1])"
   ]
  },
  {
   "cell_type": "code",
   "execution_count": 32,
   "metadata": {},
   "outputs": [],
   "source": [
    "import csv\n",
    "probability_stage_ndarray = np.array(probability_stage_list)\n",
    "\n",
    "with open(\"submit.csv\", \"w\") as infile:\n",
    "    writer = csv.writer(infile)\n",
    "    # writer.writerow([\"header01\", \"header02\"])\n",
    "    for i in zip(biopsy_id_list, probability_stage_ndarray[:,0].tolist(), probability_stage_ndarray[:,1].tolist(), probability_stage_ndarray[:,2].tolist(), probability_stage_ndarray[:,3].tolist(), probability_stage_ndarray[:,4].tolist(), stage_list):\n",
    "        writer.writerow(i)"
   ]
  }
 ],
 "metadata": {
  "kernelspec": {
   "display_name": "med",
   "language": "python",
   "name": "python3"
  },
  "language_info": {
   "codemirror_mode": {
    "name": "ipython",
    "version": 3
   },
   "file_extension": ".py",
   "mimetype": "text/x-python",
   "name": "python",
   "nbconvert_exporter": "python",
   "pygments_lexer": "ipython3",
   "version": "3.9.15"
  },
  "orig_nbformat": 4
 },
 "nbformat": 4,
 "nbformat_minor": 2
}
