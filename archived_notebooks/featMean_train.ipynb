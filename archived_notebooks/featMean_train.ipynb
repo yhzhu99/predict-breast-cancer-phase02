{
 "cells": [
  {
   "cell_type": "code",
   "execution_count": 1,
   "id": "0a329b38-95e6-49ea-ad52-fc90201b689e",
   "metadata": {},
   "outputs": [],
   "source": [
    "import pandas as pd\n",
    "import numpy as np\n",
    "from tqdm import tqdm\n",
    "from openslide import OpenSlide\n",
    "from pathlib import Path\n",
    "import torch\n",
    "import torchvision\n",
    "from torch import nn\n",
    "from torch.nn.utils.rnn import pad_sequence\n",
    "from torchvision import transforms\n",
    "from PIL import Image\n",
    "\n",
    "from sklearn.metrics import roc_auc_score\n",
    "from sklearn.preprocessing import LabelBinarizer\n",
    "\n",
    "from utils.focal_loss import FocalLoss\n",
    "\n",
    "SEED = 42"
   ]
  },
  {
   "cell_type": "code",
   "execution_count": 2,
   "id": "1cececdd-f268-43d4-9c51-c32ab7ae57d6",
   "metadata": {},
   "outputs": [],
   "source": [
    "train_df = pd.read_csv('./csv_dir/train_outcomes.csv') # biopsy_id, label\n",
    "test_df = pd.read_csv('./csv_dir/test_outcomes.csv')\n",
    "\n",
    "train_mapping = pd.read_csv('./csv_dir/train_mapping.csv') # slide_id, biopsy_id, img path\n",
    "test_mapping = pd.read_csv('./csv_dir/test_mapping.csv')"
   ]
  },
  {
   "cell_type": "code",
   "execution_count": 3,
   "id": "eee20f6e-0cac-4e52-bfb0-0853caadd0c1",
   "metadata": {},
   "outputs": [],
   "source": [
    "train_outcome_map = {}\n",
    "\"\"\"\n",
    "key: biopsy_id\n",
    "value: stage_number 0,1,2,3,4 (exclude NaN)\n",
    "\"\"\"\n",
    "for idx, row in train_df.iterrows():\n",
    "    train_outcome_map[row['biopsy_id']] = row['label']\n",
    "\n",
    "train_slide_map = {}\n",
    "\"\"\"\n",
    "key: slide_id\n",
    "value: Tuple(biopsy_id, slide_path, label)\n",
    "\"\"\"\n",
    "for idx, row in train_mapping.iterrows():\n",
    "    train_slide_map[row['slide_id']] = (row['biopsy_id'], row['downsampled_path'], train_outcome_map[row['biopsy_id']])"
   ]
  },
  {
   "cell_type": "code",
   "execution_count": 4,
   "id": "b3177ad9-33c3-4254-b2a9-a4bdf07fadc8",
   "metadata": {},
   "outputs": [],
   "source": [
    "test_outcome_map = {}\n",
    "\"\"\"\n",
    "key: biopsy_id\n",
    "value: stage_number 0,1,2,3,4 (exclude NaN)\n",
    "\"\"\"\n",
    "for idx, row in test_df.iterrows():\n",
    "    test_outcome_map[row['biopsy_id']] = row['label']\n",
    "\n",
    "test_slide_map = {}\n",
    "\"\"\"\n",
    "key: slide_id\n",
    "value: Tuple(biopsy_id, slide_path, label)\n",
    "\"\"\"\n",
    "for idx, row in test_mapping.iterrows():\n",
    "    # print(row['biopsy_id'])\n",
    "    test_slide_map[row['slide_id']] = (row['biopsy_id'], row['downsampled_path'], test_outcome_map[row['biopsy_id']])"
   ]
  },
  {
   "cell_type": "code",
   "execution_count": 5,
   "id": "b662f319-9f33-46d6-86c3-6970c595d4ff",
   "metadata": {},
   "outputs": [
    {
     "data": {
      "text/plain": [
       "6810"
      ]
     },
     "execution_count": 5,
     "metadata": {},
     "output_type": "execute_result"
    }
   ],
   "source": [
    "len(train_slide_map)"
   ]
  },
  {
   "cell_type": "code",
   "execution_count": 6,
   "id": "03a15598-ed25-4ae3-abfe-d33e9ca839f0",
   "metadata": {},
   "outputs": [],
   "source": [
    "class FeatureDataset(torch.utils.data.Dataset):\n",
    "    def __init__(self, slide_map): \n",
    "        self.slide_map = slide_map\n",
    "        self.data = list(slide_map.values())\n",
    "\n",
    "    def __getitem__(self, index):\n",
    "        biopsy_id, path, label = self.data[index]\n",
    "        x = torch.load(path)\n",
    "        return x, label, biopsy_id\n",
    "\n",
    "    def __len__(self):\n",
    "        return len(self.slide_map)\n",
    "\n",
    "def pad_collate(batch):\n",
    "    xx, label, biopsy_id = zip(*batch)\n",
    "    x_lens = [len(x) for x in xx]\n",
    "    xx_pad = pad_sequence(xx, batch_first=True, padding_value=0)\n",
    "    label = torch.tensor(label)\n",
    "    return xx_pad, x_lens, label, biopsy_id"
   ]
  },
  {
   "cell_type": "code",
   "execution_count": 7,
   "id": "fa793b9f-d9ab-4fe5-81f3-c1c4366173bb",
   "metadata": {},
   "outputs": [],
   "source": [
    "batch_size = 8\n",
    "\n",
    "epochs = 50\n",
    "learning_rate = 1e-3\n",
    "momentum = 0.9\n",
    "weight_decay = 1.0e-4 # 1e-8\n",
    "\n",
    "hidden_dim = 2048 # ResNet50\n",
    "num_classes = 5\n",
    "out_dim = num_classes # [0,1,2,3,4]\n",
    "\n",
    "device = torch.device(\"cuda:0\" if torch.cuda.is_available() else \"cpu\")"
   ]
  },
  {
   "cell_type": "code",
   "execution_count": 8,
   "id": "a13c5e2f-e74e-426a-9f76-3a98ce6e89ae",
   "metadata": {},
   "outputs": [],
   "source": [
    "train_dataset = FeatureDataset(train_slide_map)\n",
    "train_loader = torch.utils.data.DataLoader(train_dataset, batch_size=batch_size, collate_fn=pad_collate)\n",
    "test_dataset = FeatureDataset(test_slide_map)\n",
    "test_loader = torch.utils.data.DataLoader(test_dataset, batch_size=batch_size, collate_fn=pad_collate)"
   ]
  },
  {
   "cell_type": "code",
   "execution_count": 9,
   "id": "940a3494-f6bc-47a9-a6db-1a1665fa9920",
   "metadata": {},
   "outputs": [],
   "source": [
    "# len(train_loader)\n",
    "# for idx, t in enumerate(train_loader):\n",
    "#     if idx == 10: break\n",
    "#     a, length, b,c = t\n",
    "#     print(a.shape, length, b,c)"
   ]
  },
  {
   "cell_type": "code",
   "execution_count": 10,
   "id": "8708964d-89b5-4954-944b-199486adde41",
   "metadata": {},
   "outputs": [],
   "source": [
    "def get_ce_loss(y_pred, y_true):\n",
    "    loss_fn = nn.CrossEntropyLoss()\n",
    "    return loss_fn(y_pred, y_true)\n",
    "\n",
    "def get_focal_loss(y_pred, y_true):\n",
    "    loss_fn = FocalLoss()\n",
    "    return loss_fn(y_pred, y_true)\n",
    "\n",
    "criterion = get_focal_loss"
   ]
  },
  {
   "cell_type": "code",
   "execution_count": 11,
   "id": "978d2d6f-7552-4a71-b4e2-72fb9b6a9c84",
   "metadata": {},
   "outputs": [],
   "source": [
    "label_binarizer = LabelBinarizer().fit(np.arange(num_classes))\n",
    "\n",
    "def get_score(y_true, y_pred):\n",
    "    \"\"\"\n",
    "    # assume y_true: [0,1,2,3,4,3,2,...] discrete numbers\n",
    "    # assume y_pred: tensor of shape (batch_size, num_classes)\n",
    "    # where num_classes = 5 for this task\n",
    "\n",
    "    # compute AUC for each class\n",
    "    \"\"\"\n",
    "    y_true_onehot = label_binarizer.transform(y_true)\n",
    "    macro_roc_auc_ovr = roc_auc_score(\n",
    "        y_true_onehot,\n",
    "        y_pred,\n",
    "        multi_class=\"ovr\",\n",
    "        average=\"macro\",\n",
    "    )\n",
    "    return macro_roc_auc_ovr"
   ]
  },
  {
   "cell_type": "code",
   "execution_count": 12,
   "id": "7c7533f3-891c-4929-ad58-52a5a8dba5d7",
   "metadata": {},
   "outputs": [],
   "source": [
    "class Model(nn.Module):\n",
    "    \"\"\"\n",
    "    hidden_dim = 1024\n",
    "    out_dim = num_classes = 5\n",
    "    \"\"\"\n",
    "    def __init__(self):\n",
    "        super(Model, self).__init__()\n",
    "        self.hidden_dim = 1024\n",
    "        self.num_classes = 5\n",
    "        \n",
    "        self.linear1 = nn.Linear(self.hidden_dim, self.hidden_dim//16)\n",
    "        self.activation = nn.ReLU()\n",
    "        self.linear2 = nn.Linear(self.hidden_dim//16, self.num_classes)\n",
    "        self.softmax = nn.Softmax(dim=1)\n",
    "\n",
    "    def forward(self, x, x_len):\n",
    "        bs=x.shape[0]\n",
    "        \n",
    "        x = self.linear1(x)\n",
    "        x = self.activation(x)\n",
    "        x = self.linear2(x) #\n",
    "        out = torch.zeros((bs, self.num_classes))\n",
    "        for i in range(bs):\n",
    "            cur_len = x_len[i]\n",
    "            cur_out = torch.mean(x[i][:cur_len], dim=0)\n",
    "            out[i] = cur_out\n",
    "        out = self.softmax(out)\n",
    "        return out\n",
    "\n",
    "model = Model().to(device)\n",
    "optimizer = torch.optim.AdamW(model.parameters(), lr=learning_rate, weight_decay=weight_decay)\n",
    "# optimizer = torch.optim.SGD(model.parameters(), lr=learning_rate, momentum=momentum, weight_decay=weight_decay)"
   ]
  },
  {
   "cell_type": "code",
   "execution_count": 13,
   "id": "0369fe48-acc4-4f95-9414-edf7c8d79a1a",
   "metadata": {},
   "outputs": [],
   "source": [
    "def train_epoch(model, dataloader, loss_fn, optimizer):\n",
    "    train_loss = []\n",
    "    model.train()\n",
    "    for step, data in enumerate(dataloader):\n",
    "        if step % 50 == 0: print(f\"Training... Step={step}\")\n",
    "        if step == 200: break\n",
    "        batch_x, batch_len, batch_y, batch_biopsy_id = data\n",
    "        batch_x, batch_y = (\n",
    "            batch_x.float().to(device),\n",
    "            batch_y.type(torch.LongTensor).to(device),\n",
    "        )\n",
    "        optimizer.zero_grad()\n",
    "        output = model(batch_x, batch_len)\n",
    "        loss = loss_fn(output, batch_y)\n",
    "        train_loss.append(loss.item())\n",
    "        loss.backward()\n",
    "        optimizer.step()\n",
    "    metric_train_loss = np.array(train_loss).mean()\n",
    "    return metric_train_loss\n",
    "\n",
    "def val_epoch(model, dataloader):\n",
    "    y_pred = {} # key: biopsy_id, value: List[slice_stage_pred]\n",
    "    y_true = {} # key: biopsy_id, value: List[slice_stage_pred]\n",
    "    model.eval()\n",
    "    with torch.no_grad():\n",
    "        for step, data in enumerate(dataloader):\n",
    "            if step % 50 == 0: print(f\"Validating... Step={step}\")\n",
    "            if step == 200: break\n",
    "            batch_x, batch_len, batch_y, batch_biopsy_id = data\n",
    "            batch_x, batch_y = (\n",
    "                batch_x.float().to(device),\n",
    "                batch_y.type(torch.LongTensor).to(device),\n",
    "            )\n",
    "            output = model(batch_x, batch_len)\n",
    "            # output = torch.argmax(output, dim=-1)\n",
    "            output = output.detach().cpu().numpy().tolist()\n",
    "            batch_y = batch_y.detach().cpu().numpy().tolist()\n",
    "\n",
    "            for i in range(len(batch_biopsy_id)):\n",
    "                biopsy_id = batch_biopsy_id[i]\n",
    "                if biopsy_id not in y_pred:\n",
    "                    y_pred[biopsy_id] = []\n",
    "                    y_true[biopsy_id] = []\n",
    "                y_pred[biopsy_id].append(output[i])\n",
    "                y_true[biopsy_id].append(batch_y[i])\n",
    "    \n",
    "    prediction_list = []\n",
    "    ground_truth_list = []\n",
    "    for biopsy_id in y_pred:\n",
    "        preds = np.array(y_pred[biopsy_id])\n",
    "        truths = np.array(y_true[biopsy_id])\n",
    "        prediction_list.append(preds.mean(axis=0))\n",
    "        ground_truth_list.append(truths.mean())\n",
    "    prediction_list = np.array(prediction_list)\n",
    "    ground_truth_list = np.array(ground_truth_list)\n",
    "    # prediction_list = reverse_min_max_norm(prediction_list)\n",
    "    # nearest_discretize(prediction_list)\n",
    "    # ground_truth_list = reverse_min_max_norm(ground_truth_list)\n",
    "    # print(ground_truth_list.shape, prediction_list.shape)\n",
    "    score = get_score(ground_truth_list, prediction_list)\n",
    "    return score"
   ]
  },
  {
   "cell_type": "code",
   "execution_count": null,
   "id": "638673fd-e751-4721-a060-fcc82950ceae",
   "metadata": {},
   "outputs": [
    {
     "name": "stdout",
     "output_type": "stream",
     "text": [
      "Training... Step=0\n",
      "Training... Step=50\n",
      "Training... Step=100\n",
      "Training... Step=150\n",
      "Training... Step=200\n",
      "Epoch 0: Loss = 0.6673073956370353\n",
      "Validating... Step=0\n",
      "Validating... Step=50\n",
      "Validating... Step=100\n",
      "Validating... Step=150\n",
      "Validating... Step=200\n",
      "Val Score: 0.5266089833696275\n",
      "Saving best model at Epoch 0\n",
      "Training... Step=0\n",
      "Training... Step=50\n",
      "Training... Step=100\n",
      "Training... Step=150\n",
      "Training... Step=200\n",
      "Epoch 1: Loss = 0.6456900563836098\n",
      "Validating... Step=0\n"
     ]
    }
   ],
   "source": [
    "best_score = -1e8\n",
    "valid_step = 1\n",
    "\n",
    "early_stop_cnt = 0\n",
    "for epoch in range(epochs):\n",
    "    # print(f'Running epoch {epoch} ...')\n",
    "    train_loss = train_epoch(model, train_loader, criterion, optimizer)\n",
    "    print(f\"Epoch {epoch}: Loss = {train_loss}\")\n",
    "    if epoch % valid_step == 0:\n",
    "        metric_valid = val_epoch(model, test_loader)\n",
    "        print(\"Val Score:\", metric_valid)\n",
    "        if metric_valid > best_score:\n",
    "            early_stop_cnt = 0\n",
    "            best_score = metric_valid\n",
    "            print(f\"Saving best model at Epoch {epoch}\")\n",
    "            torch.save(model.state_dict(), f\"./checkpoints/model_0417.ckpt\")\n",
    "        else:\n",
    "            early_stop_cnt += valid_step\n",
    "    if early_stop_cnt == 20:\n",
    "        break"
   ]
  },
  {
   "cell_type": "code",
   "execution_count": null,
   "id": "3109d130-373b-4e72-8812-b378678757bb",
   "metadata": {},
   "outputs": [],
   "source": [
    "metric_valid = val_epoch(model, test_loader)"
   ]
  }
 ],
 "metadata": {
  "kernelspec": {
   "display_name": "Python 3 (ipykernel)",
   "language": "python",
   "name": "python3"
  },
  "language_info": {
   "codemirror_mode": {
    "name": "ipython",
    "version": 3
   },
   "file_extension": ".py",
   "mimetype": "text/x-python",
   "name": "python",
   "nbconvert_exporter": "python",
   "pygments_lexer": "ipython3",
   "version": "3.8.11"
  }
 },
 "nbformat": 4,
 "nbformat_minor": 5
}
